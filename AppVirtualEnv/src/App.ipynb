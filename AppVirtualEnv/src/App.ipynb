{
 "cells": [
  {
   "cell_type": "code",
   "execution_count": 4,
   "metadata": {},
   "outputs": [],
   "source": [
    "import numpy as np\n",
    "import os\n",
    "import cv2\n",
    "from modules.WindowManager import WindowManager\n",
    "from modules.ImageProcessing import ImageProcessing"
   ]
  },
  {
   "cell_type": "code",
   "execution_count": 5,
   "metadata": {},
   "outputs": [],
   "source": [
    "class App(object):\n",
    "    def __init__(self,image):\n",
    "        self._windowManager = WindowManager(\"my app\",self.onKeypress)\n",
    "        self._windowManager2 = WindowManager(\"my app result\",self.onKeypress)\n",
    "        self._image = np.copy(image)\n",
    "        self._imageProcessing = ImageProcessing(self._image)\n",
    "    \n",
    "    def run(self):\n",
    "        self._windowManager.createWindow()\n",
    "        self._windowManager.show(self._image)\n",
    "        while self._windowManager.isWindowCreated:\n",
    "            self._windowManager.processEvents()\n",
    "    \n",
    "    def onKeypress(self, keycode):\n",
    "        if keycode == 9:\n",
    "            self._windowManager2.createWindow()\n",
    "            self._windowManager2.show(self._imageProcessing.regionGrowing())\n",
    "        if keycode == 27:   \n",
    "            self._windowManager.destroyWindow()\n",
    "            self._windowManager2.destroyWindow()"
   ]
  },
  {
   "cell_type": "code",
   "execution_count": 6,
   "metadata": {},
   "outputs": [
    {
     "name": "stdout",
     "output_type": "stream",
     "text": [
      "[0 0 0 0 0 0 0 0 0 0 0 0 0 0 0 0 0 0 0 0 0 0 0 0 0 0 0 0 0 0 0 0 0 0 0 0 0\n",
      " 0 0 0 0 0 0 0 0 0 0 0 0 0 0 0 0 0 0 0 0 0 0 0 0 0 0 0 0 0 0 0 0 0 0 0 0 0\n",
      " 0 0 0 0 0 0 0 0 0 0 0 0 0 0 0 0 0 0 0 0 0 0 0 0 0 0 0 0 0 0]\n",
      "[]\n"
     ]
    },
    {
     "ename": "KeyboardInterrupt",
     "evalue": "",
     "output_type": "error",
     "traceback": [
      "\u001b[1;31m---------------------------------------------------------------------------\u001b[0m",
      "\u001b[1;31mKeyboardInterrupt\u001b[0m                         Traceback (most recent call last)",
      "\u001b[1;32mc:\\Users\\amine\\OneDrive\\Desktop\\Programming\\Python\\workspace\\computer vision\\ComputerVisionApp\\AppVirtualEnv\\src\\App.ipynb Cell 3'\u001b[0m in \u001b[0;36m<cell line: 7>\u001b[1;34m()\u001b[0m\n\u001b[0;32m      <a href='vscode-notebook-cell:/c%3A/Users/amine/OneDrive/Desktop/Programming/Python/workspace/computer%20vision/ComputerVisionApp/AppVirtualEnv/src/App.ipynb#ch0000002?line=2'>3</a>\u001b[0m \u001b[39m# image = cv2.imread(\"assets/ImageTest/ImageTest/pat1.jpg\")\u001b[39;00m\n\u001b[0;32m      <a href='vscode-notebook-cell:/c%3A/Users/amine/OneDrive/Desktop/Programming/Python/workspace/computer%20vision/ComputerVisionApp/AppVirtualEnv/src/App.ipynb#ch0000002?line=3'>4</a>\u001b[0m \u001b[39m# # image = cv2.imread(\"assets/lena.jpg\",cv2.COLOR_RGB2GRAY)\u001b[39;00m\n\u001b[0;32m      <a href='vscode-notebook-cell:/c%3A/Users/amine/OneDrive/Desktop/Programming/Python/workspace/computer%20vision/ComputerVisionApp/AppVirtualEnv/src/App.ipynb#ch0000002?line=4'>5</a>\u001b[0m \u001b[39m# # image = cv2.imread(\"assets/ImageTest/ImageTest/Morpho.png\",cv2.IMREAD_GRAYSCALE)\u001b[39;00m\n\u001b[0;32m      <a href='vscode-notebook-cell:/c%3A/Users/amine/OneDrive/Desktop/Programming/Python/workspace/computer%20vision/ComputerVisionApp/AppVirtualEnv/src/App.ipynb#ch0000002?line=6'>7</a>\u001b[0m \u001b[39mif\u001b[39;00m \u001b[39m__name__\u001b[39m \u001b[39m==\u001b[39m \u001b[39m\"\u001b[39m\u001b[39m__main__\u001b[39m\u001b[39m\"\u001b[39m:\n\u001b[1;32m----> <a href='vscode-notebook-cell:/c%3A/Users/amine/OneDrive/Desktop/Programming/Python/workspace/computer%20vision/ComputerVisionApp/AppVirtualEnv/src/App.ipynb#ch0000002?line=7'>8</a>\u001b[0m     App(image\u001b[39m=\u001b[39;49mimage)\u001b[39m.\u001b[39;49mrun()\n",
      "\u001b[1;32mc:\\Users\\amine\\OneDrive\\Desktop\\Programming\\Python\\workspace\\computer vision\\ComputerVisionApp\\AppVirtualEnv\\src\\App.ipynb Cell 2'\u001b[0m in \u001b[0;36mApp.run\u001b[1;34m(self)\u001b[0m\n\u001b[0;32m     <a href='vscode-notebook-cell:/c%3A/Users/amine/OneDrive/Desktop/Programming/Python/workspace/computer%20vision/ComputerVisionApp/AppVirtualEnv/src/App.ipynb#ch0000001?line=9'>10</a>\u001b[0m \u001b[39mself\u001b[39m\u001b[39m.\u001b[39m_windowManager\u001b[39m.\u001b[39mshow(\u001b[39mself\u001b[39m\u001b[39m.\u001b[39m_image)\n\u001b[0;32m     <a href='vscode-notebook-cell:/c%3A/Users/amine/OneDrive/Desktop/Programming/Python/workspace/computer%20vision/ComputerVisionApp/AppVirtualEnv/src/App.ipynb#ch0000001?line=10'>11</a>\u001b[0m \u001b[39mwhile\u001b[39;00m \u001b[39mself\u001b[39m\u001b[39m.\u001b[39m_windowManager\u001b[39m.\u001b[39misWindowCreated:\n\u001b[1;32m---> <a href='vscode-notebook-cell:/c%3A/Users/amine/OneDrive/Desktop/Programming/Python/workspace/computer%20vision/ComputerVisionApp/AppVirtualEnv/src/App.ipynb#ch0000001?line=11'>12</a>\u001b[0m     \u001b[39mself\u001b[39;49m\u001b[39m.\u001b[39;49m_windowManager\u001b[39m.\u001b[39;49mprocessEvents()\n",
      "File \u001b[1;32mc:\\Users\\amine\\OneDrive\\Desktop\\Programming\\Python\\workspace\\computer vision\\ComputerVisionApp\\AppVirtualEnv\\src\\modules\\WindowManager.py:25\u001b[0m, in \u001b[0;36mWindowManager.processEvents\u001b[1;34m(self)\u001b[0m\n\u001b[0;32m     <a href='file:///c%3A/Users/amine/OneDrive/Desktop/Programming/Python/workspace/computer%20vision/ComputerVisionApp/AppVirtualEnv/src/modules/WindowManager.py?line=23'>24</a>\u001b[0m \u001b[39mdef\u001b[39;00m \u001b[39mprocessEvents\u001b[39m(\u001b[39mself\u001b[39m):\n\u001b[1;32m---> <a href='file:///c%3A/Users/amine/OneDrive/Desktop/Programming/Python/workspace/computer%20vision/ComputerVisionApp/AppVirtualEnv/src/modules/WindowManager.py?line=24'>25</a>\u001b[0m     keycode \u001b[39m=\u001b[39m cv2\u001b[39m.\u001b[39;49mwaitKey(\u001b[39m1\u001b[39;49m)\n\u001b[0;32m     <a href='file:///c%3A/Users/amine/OneDrive/Desktop/Programming/Python/workspace/computer%20vision/ComputerVisionApp/AppVirtualEnv/src/modules/WindowManager.py?line=25'>26</a>\u001b[0m     \u001b[39mif\u001b[39;00m \u001b[39mself\u001b[39m\u001b[39m.\u001b[39mkeypresscallback \u001b[39mis\u001b[39;00m \u001b[39mnot\u001b[39;00m \u001b[39mNone\u001b[39;00m \u001b[39mand\u001b[39;00m keycode \u001b[39m!=\u001b[39m \u001b[39m-\u001b[39m\u001b[39m1\u001b[39m:\n\u001b[0;32m     <a href='file:///c%3A/Users/amine/OneDrive/Desktop/Programming/Python/workspace/computer%20vision/ComputerVisionApp/AppVirtualEnv/src/modules/WindowManager.py?line=26'>27</a>\u001b[0m         \u001b[39mself\u001b[39m\u001b[39m.\u001b[39mkeypresscallback(keycode)\n",
      "\u001b[1;31mKeyboardInterrupt\u001b[0m: "
     ]
    }
   ],
   "source": [
    "image = cv2.imread(\"assets/last2.jpg\")\n",
    "\n",
    "# image = cv2.imread(\"assets/ImageTest/ImageTest/pat1.jpg\")\n",
    "# # image = cv2.imread(\"assets/lena.jpg\",cv2.COLOR_RGB2GRAY)\n",
    "# # image = cv2.imread(\"assets/ImageTest/ImageTest/Morpho.png\",cv2.IMREAD_GRAYSCALE)\n",
    "\n",
    "if __name__ == \"__main__\":\n",
    "    App(image=image).run()\n"
   ]
  }
 ],
 "metadata": {
  "interpreter": {
   "hash": "3e4acc171ad106237678cb5649f39b1c6592f18a048c04797d09c85e980e5c47"
  },
  "kernelspec": {
   "display_name": "Python 3.10.3 ('AppVirtualEnv': venv)",
   "language": "python",
   "name": "python3"
  },
  "language_info": {
   "codemirror_mode": {
    "name": "ipython",
    "version": 3
   },
   "file_extension": ".py",
   "mimetype": "text/x-python",
   "name": "python",
   "nbconvert_exporter": "python",
   "pygments_lexer": "ipython3",
   "version": "3.10.3"
  },
  "orig_nbformat": 4
 },
 "nbformat": 4,
 "nbformat_minor": 2
}
